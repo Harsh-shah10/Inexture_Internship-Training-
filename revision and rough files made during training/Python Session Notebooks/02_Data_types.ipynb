{
  "nbformat": 4,
  "nbformat_minor": 0,
  "metadata": {
    "kernelspec": {
      "display_name": "Python 3",
      "language": "python",
      "name": "python3"
    },
    "language_info": {
      "codemirror_mode": {
        "name": "ipython",
        "version": 3
      },
      "file_extension": ".py",
      "mimetype": "text/x-python",
      "name": "python",
      "nbconvert_exporter": "python",
      "pygments_lexer": "ipython3",
      "version": "3.7.3"
    },
    "toc": {
      "base_numbering": 1,
      "nav_menu": {},
      "number_sections": true,
      "sideBar": true,
      "skip_h1_title": false,
      "title_cell": "Table of Contents",
      "title_sidebar": "Contents",
      "toc_cell": false,
      "toc_position": {
        "height": "calc(100% - 180px)",
        "left": "10px",
        "top": "150px",
        "width": "273.188px"
      },
      "toc_section_display": true,
      "toc_window_display": false
    },
    "colab": {
      "name": "02 Data types.ipynb",
      "provenance": [],
      "collapsed_sections": [
        "ix9yE31Z3H8C",
        "n0WGo8uy3H8J",
        "NvX076-h3H8X",
        "qreq1_R53H8X",
        "J_GWhxwS3H8c",
        "LFq7KD0Z3H8d",
        "DxrU7U-P3H8g"
      ]
    }
  },
  "cells": [
    {
      "cell_type": "markdown",
      "metadata": {
        "id": "HvWKeD763H7-"
      },
      "source": [
        "# None"
      ]
    },
    {
      "cell_type": "markdown",
      "metadata": {
        "id": "Ygb7eKV03H7_"
      },
      "source": [
        "This type has a single value. **There is a single object with this value.** This object is accessed through the built-in name None. It is used to signify the absence of a value in many situations, e.g., it is returned from **functions that don’t explicitly return anything.** **Its truth value is false.**"
      ]
    },
    {
      "cell_type": "markdown",
      "metadata": {
        "id": "aV05LTul3H8A"
      },
      "source": [
        "# numbers.Number"
      ]
    },
    {
      "cell_type": "markdown",
      "metadata": {
        "id": "gQLC8RGa3H8B"
      },
      "source": [
        "\n",
        "These are created by numeric literals and returned as results by arithmetic operators and arithmetic built-in functions. **Numeric objects are immutable**"
      ]
    },
    {
      "cell_type": "markdown",
      "metadata": {
        "id": "ix9yE31Z3H8C"
      },
      "source": [
        "## numbers.Integral"
      ]
    },
    {
      "cell_type": "markdown",
      "metadata": {
        "id": "L7FHK__D3H8C"
      },
      "source": [
        "- These represent elements from the mathematical set of integers (positive and negative).\n",
        "\n",
        "- There are two types of integers:"
      ]
    },
    {
      "cell_type": "markdown",
      "metadata": {
        "heading_collapsed": true,
        "id": "O4TQDEdg3H8D"
      },
      "source": [
        "### Integers (int)"
      ]
    },
    {
      "cell_type": "markdown",
      "metadata": {
        "hidden": true,
        "id": "Jv-Aaftl3H8E"
      },
      "source": [
        "- These represent numbers in an unlimited range, subject to available (virtual) memory only.\n",
        "- negative numbers are represented in a variant of 2’s complement which gives the illusion of an infinite string of sign bits extending to the left."
      ]
    },
    {
      "cell_type": "markdown",
      "metadata": {
        "heading_collapsed": true,
        "id": "YLjXf0Cm3H8E"
      },
      "source": [
        "### Booleans (bool)"
      ]
    },
    {
      "cell_type": "markdown",
      "metadata": {
        "hidden": true,
        "id": "1mO2sewn3H8F"
      },
      "source": [
        "- These represent the truth values False and True.\n",
        "- The Boolean type is a subtype of the integer type, and Booleans False and True **behave like the values 0 and 1, respectively.**\n",
        "- The two objects representing the values **False and True are the only Boolean objects.**\n",
        "- when converted to a string, **the strings \"False\" or \"True\" are returned**, respectively."
      ]
    },
    {
      "cell_type": "markdown",
      "metadata": {
        "heading_collapsed": true,
        "id": "bH-e0OXw3H8F"
      },
      "source": [
        "## numbers.Real"
      ]
    },
    {
      "cell_type": "markdown",
      "metadata": {
        "heading_collapsed": true,
        "hidden": true,
        "id": "tgzVDtgv3H8G"
      },
      "source": [
        "### float"
      ]
    },
    {
      "cell_type": "markdown",
      "metadata": {
        "hidden": true,
        "id": "Amu2FYyP3H8G"
      },
      "source": [
        "- These represent machine-level double precision floating point numbers."
      ]
    },
    {
      "cell_type": "markdown",
      "metadata": {
        "heading_collapsed": true,
        "id": "aPbwOjR83H8H"
      },
      "source": [
        "## numbers.Complex "
      ]
    },
    {
      "cell_type": "markdown",
      "metadata": {
        "heading_collapsed": true,
        "hidden": true,
        "id": "izt0G5BG3H8H"
      },
      "source": [
        "### Complex"
      ]
    },
    {
      "cell_type": "markdown",
      "metadata": {
        "hidden": true,
        "id": "PywOa4pQ3H8I"
      },
      "source": [
        "- These represent complex numbers as a pair of machine-level double precision floating point numbers\n",
        "- The real and imaginary parts of a complex number z can be retrieved through the **read-only attributes z.real and z.imag.**"
      ]
    },
    {
      "cell_type": "markdown",
      "metadata": {
        "id": "M25kFMrZ3H8I"
      },
      "source": [
        "# Sequences"
      ]
    },
    {
      "cell_type": "markdown",
      "metadata": {
        "id": "RFb68kn23H8J"
      },
      "source": [
        "- These represent finite ordered sets indexed by non-negative numbers.\n",
        "- The built-in function **len()** returns the number of items of a sequence.\n",
        "- Sequences also support slicing: **a\\[i:j\\]** selects all items with index **k such that i <= k < j.**\n",
        "- Some sequences also support **“extended slicing”** with a third **“step”** parameter: **a\\[i:j:k\\]** selects all items of a with index x **where x = i + n*k, n >= 0 and i <= x < j.**"
      ]
    },
    {
      "cell_type": "markdown",
      "metadata": {
        "id": "n0WGo8uy3H8J"
      },
      "source": [
        "## Immutable sequences"
      ]
    },
    {
      "cell_type": "markdown",
      "metadata": {
        "id": "UQJF3EQB3H8K"
      },
      "source": [
        "- An object of an immutable sequence type **cannot change once it is created.**"
      ]
    },
    {
      "cell_type": "markdown",
      "metadata": {
        "id": "ZIv3mkIy3H8K"
      },
      "source": [
        "### Strings"
      ]
    },
    {
      "cell_type": "markdown",
      "metadata": {
        "id": "gH4_7blE3H8L"
      },
      "source": [
        "- A string is a sequence of values that **represent Unicode code points.**\n",
        "- Python **doesn’t have a char type;** instead, every code point in the string is **represented as a string object with length 1.**\n",
        "- The built-in function **ord() converts** a code point from its string form **to an integer in the range 0 - 10FFFF;**\n",
        "- **chr() converts** an integer in the range 0 - 10FFFF **to the corresponding length 1 string object.**\n",
        "- str.encode() can be used to convert a str to bytes using the given text encoding, and bytes.decode() can be used to achieve the opposite."
      ]
    },
    {
      "cell_type": "code",
      "metadata": {
        "id": "kcMfY5ri3H8L",
        "outputId": "ab69a52f-299f-4c88-d841-527bd165f92f",
        "colab": {
          "base_uri": "https://localhost:8080/",
          "height": 391
        }
      },
      "source": [
        "# let's see how string can be a sequence in python and not the traditional string.\n",
        "\n",
        "my_str = \"This is a sequence\"\n",
        "print(\"length of the sequence is: {}\".format(len(my_str)))\n",
        "print(\"Character at 7th position is: {}\".format(my_str[6]))\n",
        "for i in my_str:\n",
        "    print(i)\n",
        "    \n",
        "# How can we say that string is mutable?\n",
        "# my_str[2] = \"A\"  # try changing a character in any position of string\n",
        "\n",
        "# however, why this worked?\n",
        "my_str = \"Who said I can not change string once assigned?\"\n",
        "print(my_str)\n",
        "if \"said\" in my_str:\n",
        "    print(\"Yes\")"
      ],
      "execution_count": null,
      "outputs": [
        {
          "output_type": "stream",
          "text": [
            "length of the sequence is: 18\n",
            "Character at 7th position is: s\n",
            "T\n",
            "h\n",
            "i\n",
            "s\n",
            " \n",
            "i\n",
            "s\n",
            " \n",
            "a\n",
            " \n",
            "s\n",
            "e\n",
            "q\n",
            "u\n",
            "e\n",
            "n\n",
            "c\n",
            "e\n",
            "Who said I can not change string once assigned?\n",
            "Yes\n"
          ],
          "name": "stdout"
        }
      ]
    },
    {
      "cell_type": "code",
      "metadata": {
        "id": "bV1gLqV53H8P",
        "outputId": "7aa69c34-8ed5-4e23-8998-bbc0714fd22c",
        "colab": {
          "base_uri": "https://localhost:8080/",
          "height": 102
        }
      },
      "source": [
        "a = \"abcd\"\n",
        "b = \"c\"\n",
        "\n",
        "# print(a[2] is b[0])\n",
        "\n",
        "for char in a:\n",
        "    print(id(char))\n",
        "    \n",
        "# print(id(a[2]))\n",
        "\n",
        "print(id(b[0]))\n"
      ],
      "execution_count": null,
      "outputs": [
        {
          "output_type": "stream",
          "text": [
            "140606454133512\n",
            "140606454460632\n",
            "140606454407328\n",
            "140606453875912\n",
            "140606454407328\n"
          ],
          "name": "stdout"
        }
      ]
    },
    {
      "cell_type": "markdown",
      "metadata": {
        "id": "9NppDAgW3H8R"
      },
      "source": [
        "### Tuples"
      ]
    },
    {
      "cell_type": "markdown",
      "metadata": {
        "id": "1HIn5PWo3H8R"
      },
      "source": [
        "- Tuples are simply an __immutable sequence of other python objects.__\n",
        "- Tuples of two or more items are formed by comma-separated lists of expressions."
      ]
    },
    {
      "cell_type": "code",
      "metadata": {
        "id": "dP2uNCmP3H8S",
        "outputId": "b9b4d7ba-ea1e-440f-9b68-d225592eecaa",
        "colab": {
          "base_uri": "https://localhost:8080/",
          "height": 102
        }
      },
      "source": [
        "# All of them are tuples\n",
        "\n",
        "a = 1, 2, 3\n",
        "print(a)\n",
        "\n",
        "b = (4, 5, 6)\n",
        "print(b)\n",
        "\n",
        "c = 1,\n",
        "print(c)\n",
        "\n",
        "d = ()\n",
        "print(d)\n",
        "\n",
        "e = tuple()\n",
        "print(e)"
      ],
      "execution_count": null,
      "outputs": [
        {
          "output_type": "stream",
          "text": [
            "(1, 2, 3)\n",
            "(4, 5, 6)\n",
            "(1,)\n",
            "()\n",
            "()\n"
          ],
          "name": "stdout"
        }
      ]
    },
    {
      "cell_type": "code",
      "metadata": {
        "scrolled": true,
        "id": "4Ay12M0d3H8U",
        "outputId": "8f9c83e3-e299-4fbc-dfdb-7b1b1fc3de61",
        "colab": {
          "base_uri": "https://localhost:8080/",
          "height": 85
        }
      },
      "source": [
        "# Operations on tuples\n",
        "a = (1, 2, 3)\n",
        "b = (4, 5, 6)\n",
        "a = a + b\n",
        "print(\"c = a + b: {}\".format(a))\n",
        "\n",
        "d = a * 4\n",
        "print(\"d = a*4: {}\".format(d))\n",
        "\n",
        "length = len(a)\n",
        "print(\"len(a): {}\".format(length))\n",
        "\n",
        "if 3 in a:\n",
        "    print(\"I am there\")\n",
        "else:\n",
        "    print(\"Ooops! not found\")"
      ],
      "execution_count": null,
      "outputs": [
        {
          "output_type": "stream",
          "text": [
            "c = a + b: (1, 2, 3, 4, 5, 6)\n",
            "d = a*4: (1, 2, 3, 4, 5, 6, 1, 2, 3, 4, 5, 6, 1, 2, 3, 4, 5, 6, 1, 2, 3, 4, 5, 6)\n",
            "len(a): 6\n",
            "I am there\n"
          ],
          "name": "stdout"
        }
      ]
    },
    {
      "cell_type": "markdown",
      "metadata": {
        "id": "oYNT8a6h3H8W"
      },
      "source": [
        "### Bytes"
      ]
    },
    {
      "cell_type": "markdown",
      "metadata": {
        "id": "wRoO9BYz3H8W"
      },
      "source": [
        "- A bytes object is an immutable array"
      ]
    },
    {
      "cell_type": "markdown",
      "metadata": {
        "heading_collapsed": true,
        "id": "NvX076-h3H8X"
      },
      "source": [
        "## Mutable sequences"
      ]
    },
    {
      "cell_type": "markdown",
      "metadata": {
        "hidden": true,
        "id": "SYVwBwct3H8X"
      },
      "source": [
        "- Mutable sequences **can be changed after they are created.**"
      ]
    },
    {
      "cell_type": "markdown",
      "metadata": {
        "heading_collapsed": true,
        "hidden": true,
        "id": "qreq1_R53H8X"
      },
      "source": [
        "### Lists"
      ]
    },
    {
      "cell_type": "markdown",
      "metadata": {
        "hidden": true,
        "id": "ODqioDvO3H8Y"
      },
      "source": [
        "- List is also a collection of other python objects but mutable unlike tuple.\n",
        "- Lists are formed by placing a comma-separated list of expressions in square brackets."
      ]
    },
    {
      "cell_type": "code",
      "metadata": {
        "hidden": true,
        "id": "W-nVwdJ73H8Y",
        "outputId": "ed330b95-861a-47b5-be1e-991600ae5503",
        "colab": {
          "base_uri": "https://localhost:8080/",
          "height": 85
        }
      },
      "source": [
        "# creating list\n",
        "a = list()\n",
        "print(a)\n",
        "a = []\n",
        "print(a)\n",
        "a = [1, 'x', 3, '1']\n",
        "print(a)\n",
        "a = [1]\n",
        "print(a)"
      ],
      "execution_count": null,
      "outputs": [
        {
          "output_type": "stream",
          "text": [
            "[]\n",
            "[]\n",
            "[1, 'x', 3, '1']\n",
            "[1]\n"
          ],
          "name": "stdout"
        }
      ]
    },
    {
      "cell_type": "code",
      "metadata": {
        "hidden": true,
        "id": "Rri06HTK3H8a",
        "outputId": "e262815b-a6fb-4c7a-e140-c4b502e46ae4",
        "colab": {
          "base_uri": "https://localhost:8080/",
          "height": 663
        }
      },
      "source": [
        "# operations on lists\n",
        "a = [1, 2, 0, 2]\n",
        "print(id(a))\n",
        "\n",
        "# adding an item to list\n",
        "a.append(3)\n",
        "\n",
        "print(id(a))\n",
        "print(\"After appending 3 to list: \\n{}\\n\".format(a))\n",
        "\n",
        "# extending list with another list\n",
        "b = ['a', 'b', 'c']\n",
        "a.extend(b)\n",
        "print(\"Extending list with method: \\n{}\\n\".format(a))\n",
        "c = [True, False]\n",
        "a = a + c\n",
        "print(\"Extending list using + operator: \\n{}\\n\".format(a))\n",
        "\n",
        "# inserting into list\n",
        "a.insert(3, 'first')\n",
        "print(\"Inserting an element to the specified position of list: \\n{}\\n\".format(a))\n",
        "\n",
        "# counting items in list\n",
        "print(\"Total given items in list: \\n{}\\n\".format(a.count(True))) # better to use len in this case, check count vs len https://stackoverflow.com/a/26563051/5476209\n",
        "\n",
        "# find first index of given element\n",
        "print(\"Index of 0 is: \\n{}\\n\".format(a.index(True))) # check None or False first item will be ignored\n",
        "\n",
        "# popping last element from list\n",
        "print(\"POP: \\n{}\\n\".format(a.pop()))\n",
        "print(\"List after POP: \\n{}\\n\".format(a))\n",
        "\n",
        "# remove first occurence of an element from list\n",
        "a.remove(2)\n",
        "print(\"List after removing 2: \\n{}\\n\".format(a))\n",
        "\n",
        "# reversing a list\n",
        "a.reverse()\n",
        "print(\"listn after being reversed: \\n{}\\n\".format(a))\n",
        "\n",
        "# sorting a list\n",
        "# a.sort()\n",
        "# print(\"Sorted list: \\n{}\\n\".format(a))\n",
        "\n",
        "a = [1, 4, 0, 99, 10, 10000, 2, True, False]\n",
        "a.sort()\n",
        "print(\"Sorted list: \\n{}\\n\".format(a))\n",
        "\n",
        "\n",
        "# clearing the list\n",
        "a.clear()\n",
        "print(\"List after being cleared: \\n{}\\n\".format(a))"
      ],
      "execution_count": null,
      "outputs": [
        {
          "output_type": "stream",
          "text": [
            "140606010342536\n",
            "140606010342536\n",
            "After appending 3 to list: \n",
            "[1, 2, 0, 2, 3]\n",
            "\n",
            "Extending list with method: \n",
            "[1, 2, 0, 2, 3, 'a', 'b', 'c']\n",
            "\n",
            "Extending list using + operator: \n",
            "[1, 2, 0, 2, 3, 'a', 'b', 'c', True, False]\n",
            "\n",
            "Inserting an element to the specified position of list: \n",
            "[1, 2, 0, 'first', 2, 3, 'a', 'b', 'c', True, False]\n",
            "\n",
            "Total given items in list: \n",
            "2\n",
            "\n",
            "Index of 0 is: \n",
            "0\n",
            "\n",
            "POP: \n",
            "False\n",
            "\n",
            "List after POP: \n",
            "[1, 2, 0, 'first', 2, 3, 'a', 'b', 'c', True]\n",
            "\n",
            "List after removing 2: \n",
            "[1, 0, 'first', 2, 3, 'a', 'b', 'c', True]\n",
            "\n",
            "listn after being reversed: \n",
            "[True, 'c', 'b', 'a', 3, 2, 'first', 0, 1]\n",
            "\n",
            "Sorted list: \n",
            "[0, False, 1, True, 2, 4, 10, 99, 10000]\n",
            "\n",
            "List after being cleared: \n",
            "[]\n",
            "\n"
          ],
          "name": "stdout"
        }
      ]
    },
    {
      "cell_type": "markdown",
      "metadata": {
        "heading_collapsed": true,
        "hidden": true,
        "id": "B5vaSaTE3H8c"
      },
      "source": [
        "### Byte Arrays"
      ]
    },
    {
      "cell_type": "markdown",
      "metadata": {
        "hidden": true,
        "id": "bjdQ7iSy3H8c"
      },
      "source": [
        "- A bytearray object is a mutable array. They are created by the built-in bytearray() constructor."
      ]
    },
    {
      "cell_type": "markdown",
      "metadata": {
        "id": "J_GWhxwS3H8c"
      },
      "source": [
        "# Set types"
      ]
    },
    {
      "cell_type": "markdown",
      "metadata": {
        "id": "ChiwjXr73H8c"
      },
      "source": [
        "- These represent **unordered**, finite sets of **unique**, **immutable** objects.  <font color=\"red\"> *Note: check about the mutability below*</font>\n",
        "- Can not be indexed.\n",
        "- However, they **can be iterated over**, and the built-in function **len()** returns the number of items in a set.\n",
        "- Common uses for sets are fast membership testing, **removing duplicates from a sequence**, and computing mathematical operations such as **intersection, union, difference, and symmetric difference.**"
      ]
    },
    {
      "cell_type": "markdown",
      "metadata": {
        "id": "fSpkR5g73H8d"
      },
      "source": [
        "**There are currently two intrinsic set types:**"
      ]
    },
    {
      "cell_type": "markdown",
      "metadata": {
        "id": "LFq7KD0Z3H8d"
      },
      "source": [
        "## Sets"
      ]
    },
    {
      "cell_type": "markdown",
      "metadata": {
        "id": "cSCMAAVh3H8d"
      },
      "source": [
        "- These represent a **mutable** set.\n",
        "- They are created by the built-in **set() constructor** and can be **modified afterwards** by several methods, such as **add().**\n",
        "- Sets are unordered you can never know what will be the order of items."
      ]
    },
    {
      "cell_type": "code",
      "metadata": {
        "id": "hrjlZiAm3H8e",
        "outputId": "4c0a9c52-87b0-4601-f537-38e9684ccb35",
        "colab": {
          "base_uri": "https://localhost:8080/",
          "height": 656
        }
      },
      "source": [
        "# creating set\n",
        "a = set()\n",
        "print(\"Type of a: \\n{}\\n\".format(type(a)))\n",
        "a = {'a', 1, 2, 3, '1', 1, 2, 3, 'a'}\n",
        "print(\"Contents of a: \\n{}\\n\".format(a))\n",
        "for item in a:\n",
        "    print(item)\n",
        "\n",
        "# adding an item to set\n",
        "a.add(\"added\")\n",
        "print(\"\\nAfter adding an item: \\n{}\\n\".format(a))\n",
        "\n",
        "# updating set\n",
        "a.update([1, 4, False])\n",
        "print(\"After updating set: \\n{}\\n\".format(a))\n",
        "\n",
        "# remove an item from set\n",
        "a.remove('added')\n",
        "print(\"After removing an item from set: \\n{}\\n\".format(a))\n",
        "\n",
        "# discard an item from set\n",
        "a.discard(\"added\")\n",
        "print(\"After discarding an item form set: \\n{}\\n\".format(a))\n",
        "\n",
        "# clearing the set\n",
        "a.clear()\n",
        "print(\"Set after being cleared: \\n{}\\n\".format(a))\n",
        "\n",
        "# del keyword\n",
        "del a  # this will completely delete the object form memory\n",
        "print(\"Set after being deleted: \\n{}\\n\".format(a))"
      ],
      "execution_count": null,
      "outputs": [
        {
          "output_type": "stream",
          "text": [
            "Type of a: \n",
            "<class 'set'>\n",
            "\n",
            "Contents of a: \n",
            "{1, 2, 3, 'a', '1'}\n",
            "\n",
            "1\n",
            "2\n",
            "3\n",
            "a\n",
            "1\n",
            "\n",
            "After adding an item: \n",
            "{1, 2, 3, 'added', 'a', '1'}\n",
            "\n",
            "After updating set: \n",
            "{False, 1, 2, 3, 'added', 4, 'a', '1'}\n",
            "\n",
            "After removing an item from set: \n",
            "{False, 1, 2, 3, 4, 'a', '1'}\n",
            "\n",
            "After discarding an item form set: \n",
            "{False, 1, 2, 3, 4, 'a', '1'}\n",
            "\n",
            "Set after being cleared: \n",
            "set()\n",
            "\n"
          ],
          "name": "stdout"
        },
        {
          "output_type": "error",
          "ename": "NameError",
          "evalue": "ignored",
          "traceback": [
            "\u001b[0;31m---------------------------------------------------------------------------\u001b[0m",
            "\u001b[0;31mNameError\u001b[0m                                 Traceback (most recent call last)",
            "\u001b[0;32m<ipython-input-20-d70b8bdcc56c>\u001b[0m in \u001b[0;36m<module>\u001b[0;34m()\u001b[0m\n\u001b[1;32m     29\u001b[0m \u001b[0;31m# del keyword\u001b[0m\u001b[0;34m\u001b[0m\u001b[0;34m\u001b[0m\u001b[0;34m\u001b[0m\u001b[0m\n\u001b[1;32m     30\u001b[0m \u001b[0;32mdel\u001b[0m \u001b[0ma\u001b[0m  \u001b[0;31m# this will completely delete the object form memory\u001b[0m\u001b[0;34m\u001b[0m\u001b[0;34m\u001b[0m\u001b[0m\n\u001b[0;32m---> 31\u001b[0;31m \u001b[0mprint\u001b[0m\u001b[0;34m(\u001b[0m\u001b[0;34m\"Set after being deleted: \\n{}\\n\"\u001b[0m\u001b[0;34m.\u001b[0m\u001b[0mformat\u001b[0m\u001b[0;34m(\u001b[0m\u001b[0ma\u001b[0m\u001b[0;34m)\u001b[0m\u001b[0;34m)\u001b[0m\u001b[0;34m\u001b[0m\u001b[0;34m\u001b[0m\u001b[0m\n\u001b[0m",
            "\u001b[0;31mNameError\u001b[0m: name 'a' is not defined"
          ]
        }
      ]
    },
    {
      "cell_type": "markdown",
      "metadata": {
        "id": "DxrU7U-P3H8g"
      },
      "source": [
        "## Frozen sets"
      ]
    },
    {
      "cell_type": "markdown",
      "metadata": {
        "id": "j7thwTMg3H8g"
      },
      "source": [
        "- These represent an **immutable set.**\n",
        "- They are created by the built-in **frozenset() constructor.**\n",
        "- it can be used again as an **element of another set, or as a dictionary key.**"
      ]
    },
    {
      "cell_type": "code",
      "metadata": {
        "id": "ZirsMFdL3H8g",
        "outputId": "c2a76186-fa32-44b0-84cc-228731c1755b",
        "colab": {
          "base_uri": "https://localhost:8080/",
          "height": 214
        }
      },
      "source": [
        "a = frozenset([1, 2, 3, 4])\n",
        "print(a)\n",
        "a.add(2)"
      ],
      "execution_count": null,
      "outputs": [
        {
          "output_type": "stream",
          "text": [
            "frozenset({1, 2, 3, 4})\n"
          ],
          "name": "stdout"
        },
        {
          "output_type": "error",
          "ename": "AttributeError",
          "evalue": "ignored",
          "traceback": [
            "\u001b[0;31m---------------------------------------------------------------------------\u001b[0m",
            "\u001b[0;31mAttributeError\u001b[0m                            Traceback (most recent call last)",
            "\u001b[0;32m<ipython-input-21-9925684697cc>\u001b[0m in \u001b[0;36m<module>\u001b[0;34m()\u001b[0m\n\u001b[1;32m      1\u001b[0m \u001b[0ma\u001b[0m \u001b[0;34m=\u001b[0m \u001b[0mfrozenset\u001b[0m\u001b[0;34m(\u001b[0m\u001b[0;34m[\u001b[0m\u001b[0;36m1\u001b[0m\u001b[0;34m,\u001b[0m \u001b[0;36m2\u001b[0m\u001b[0;34m,\u001b[0m \u001b[0;36m3\u001b[0m\u001b[0;34m,\u001b[0m \u001b[0;36m4\u001b[0m\u001b[0;34m]\u001b[0m\u001b[0;34m)\u001b[0m\u001b[0;34m\u001b[0m\u001b[0;34m\u001b[0m\u001b[0m\n\u001b[1;32m      2\u001b[0m \u001b[0mprint\u001b[0m\u001b[0;34m(\u001b[0m\u001b[0ma\u001b[0m\u001b[0;34m)\u001b[0m\u001b[0;34m\u001b[0m\u001b[0;34m\u001b[0m\u001b[0m\n\u001b[0;32m----> 3\u001b[0;31m \u001b[0ma\u001b[0m\u001b[0;34m.\u001b[0m\u001b[0madd\u001b[0m\u001b[0;34m(\u001b[0m\u001b[0;36m2\u001b[0m\u001b[0;34m)\u001b[0m\u001b[0;34m\u001b[0m\u001b[0;34m\u001b[0m\u001b[0m\n\u001b[0m",
            "\u001b[0;31mAttributeError\u001b[0m: 'frozenset' object has no attribute 'add'"
          ]
        }
      ]
    },
    {
      "cell_type": "markdown",
      "metadata": {
        "id": "pTrYQM-33H8i"
      },
      "source": [
        "# Mappings"
      ]
    },
    {
      "cell_type": "markdown",
      "metadata": {
        "id": "MMfLxHUs3H8i"
      },
      "source": [
        "## Dictionaries"
      ]
    },
    {
      "cell_type": "markdown",
      "metadata": {
        "id": "oML-Umht3H8j"
      },
      "source": [
        "- These represent finite sets of objects indexed by nearly arbitrary values.\n",
        "- The key in a dictionary can not be mutable.\n",
        "- The reason being that the efficient implementation of dictionaries requires a **key’s hash value to remain constant.**\n",
        "- dictionary is mutable.\n",
        "\n",
        "**What is a hashable object?**\n",
        "- An object is hashable if it has a hash value which never changes during its lifetime (it needs a __hash__() method), and can be compared to other objects (it needs an __eq__() method). Hashable objects which compare equal must have the same hash value."
      ]
    },
    {
      "cell_type": "code",
      "metadata": {
        "id": "1IUKOkDi3H8j",
        "outputId": "d4111c6a-f1e9-4395-be1f-4230f998f216",
        "colab": {
          "base_uri": "https://localhost:8080/",
          "height": 833
        }
      },
      "source": [
        "# creating a dict\n",
        "a = dict()\n",
        "print(\"a is: \\n{}\\n\".format(a))\n",
        "\n",
        "a = {}\n",
        "print(\"a is: \\n{}\\n\".format(a))\n",
        "\n",
        "a = {0: 'something', 1: 'is', 2: 'not', 3:True, 'what?': 'maybe'} \n",
        "print(\"a is: \\n{}\\n\".format(a))\n",
        "\n",
        "a = dict(one=1, two=2, three=3)\n",
        "print(\"a is: \\n{}\\n\".format(a))\n",
        "\n",
        "a = dict(zip(['one', 'two', 'three'], [1, 2, 3]))\n",
        "print(\"With ZIP a is: \\n{}\\n\".format(a))\n",
        "\n",
        "a = dict([('one', 1), ('two', 2), ('three', 3)])\n",
        "print(\"a is: \\n{}\\n\".format(a))\n",
        "\n",
        "# listing the keys of dictionary\n",
        "print(\"The keys in a are: \\n{}\\n\".format(list(a)))\n",
        "print(\"The keys in a are: \\n{}\\n\".format(a.keys()))\n",
        "\n",
        "# accessing items by key\n",
        "print(\"Item with key 'one' is: \\n{}\\n\".format(a['one']))  # this will raise KeyError if key is not present\n",
        "print(\"Value with key 'one' is: \\n{}\\n\".format(a.get('on'))) # this will return None if key is not present, you can also provide default value\n",
        "\n",
        "# you can also give default value to return if key is not found\n",
        "print(\"Value with key 'on' is: \\n{}\\n\".format(a.get('on', \"Key not present\")))\n",
        "\n",
        "# changing value at a key\n",
        "a['one'] = 'one'\n",
        "print(\"dict after being changed: \\n{}\\n\".format(a))\n",
        "\n",
        "# checking if key is there in dict\n",
        "if 'one' in a:\n",
        "    print('\\nyes\\n')\n",
        "    \n",
        "# pop a key and value\n",
        "value = a.pop('two', \"Key not present\")  # if key is not there return default. If default not given raise keyerror\n",
        "print(\"Popped value from dict is: \\n{}\\n\".format(value))\n",
        "print(\"Dict after popping value is: \\n{}\\n\".format(a))\n",
        "\n",
        "# popping last item from dict\n",
        "key_value = a.popitem()  # return a tuple with key and value. if dict is empty raise keyerror\n",
        "print(\"Popped last item is: \\n{}\\n\".format(key_value))"
      ],
      "execution_count": null,
      "outputs": [
        {
          "output_type": "stream",
          "text": [
            "a is: \n",
            "{}\n",
            "\n",
            "a is: \n",
            "{}\n",
            "\n",
            "a is: \n",
            "{0: 'something', 1: 'is', 2: 'not', 3: True, 'what?': 'maybe'}\n",
            "\n",
            "a is: \n",
            "{'one': 1, 'two': 2, 'three': 3}\n",
            "\n",
            "With ZIP a is: \n",
            "{'one': 1, 'two': 2, 'three': 3}\n",
            "\n",
            "a is: \n",
            "{'one': 1, 'two': 2, 'three': 3}\n",
            "\n",
            "The keys in a are: \n",
            "['one', 'two', 'three']\n",
            "\n",
            "The keys in a are: \n",
            "dict_keys(['one', 'two', 'three'])\n",
            "\n",
            "Item with key 'one' is: \n",
            "1\n",
            "\n",
            "Value with key 'one' is: \n",
            "None\n",
            "\n",
            "Value with key 'on' is: \n",
            "Key not present\n",
            "\n",
            "dict after being changed: \n",
            "{'one': 'one', 'two': 2, 'three': 3}\n",
            "\n",
            "\n",
            "yes\n",
            "\n",
            "Popped value from dict is: \n",
            "2\n",
            "\n",
            "Dict after popping value is: \n",
            "{'one': 'one', 'three': 3}\n",
            "\n",
            "Popped last item is: \n",
            "('three', 3)\n",
            "\n"
          ],
          "name": "stdout"
        }
      ]
    },
    {
      "cell_type": "code",
      "metadata": {
        "id": "G-QrSlWhKOXW"
      },
      "source": [
        ""
      ],
      "execution_count": null,
      "outputs": []
    }
  ]
}