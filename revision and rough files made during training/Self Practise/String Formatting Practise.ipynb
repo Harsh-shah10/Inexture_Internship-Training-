{
 "cells": [
  {
   "cell_type": "code",
   "execution_count": 45,
   "metadata": {},
   "outputs": [
    {
     "name": "stdout",
     "output_type": "stream",
     "text": [
      "hello TOM\n",
      "hello TOM Thomson!\n"
     ]
    }
   ],
   "source": [
    "# Old formatting style (% Operator)\n",
    "\n",
    "name = \"TOM\"\n",
    "surname = \"Thomson\"\n",
    "print('hello %s' % name)\n",
    "\n",
    "# if we want to take multiple inputs\n",
    "print('hello %s %s!' %(name,surname))\n"
   ]
  },
  {
   "cell_type": "code",
   "execution_count": null,
   "metadata": {},
   "outputs": [],
   "source": []
  },
  {
   "cell_type": "code",
   "execution_count": null,
   "metadata": {},
   "outputs": [],
   "source": [
    "# New formatting (str.format)"
   ]
  },
  {
   "cell_type": "code",
   "execution_count": 3,
   "metadata": {},
   "outputs": [
    {
     "name": "stdout",
     "output_type": "stream",
     "text": [
      "My name is Mike. My age is 14\n"
     ]
    }
   ],
   "source": [
    "# .format method\n",
    "name = \"Mike\"\n",
    "age = 14\n",
    "s = \"My name is {}. My age is {}\".format(name,age)\n",
    "\n",
    "print(s)"
   ]
  },
  {
   "cell_type": "code",
   "execution_count": null,
   "metadata": {},
   "outputs": [],
   "source": []
  },
  {
   "cell_type": "code",
   "execution_count": 4,
   "metadata": {},
   "outputs": [
    {
     "name": "stdout",
     "output_type": "stream",
     "text": [
      "My name is Mike. My age is 14\n"
     ]
    }
   ],
   "source": [
    "# using f string method\n",
    "\n",
    "name = \"Mike\"\n",
    "age = 14\n",
    "s2 = f\"My name is {name}. My age is {age}\"\n",
    "print(s2)"
   ]
  },
  {
   "cell_type": "code",
   "execution_count": 6,
   "metadata": {},
   "outputs": [
    {
     "name": "stdout",
     "output_type": "stream",
     "text": [
      "My age is 14 \n",
      "My name is Mike\n"
     ]
    }
   ],
   "source": [
    "# changine the positional arguments using format method\n",
    "\n",
    "name = \"Mike\"\n",
    "age = 14\n",
    "s = \"My age is {} \\nMy name is {}\".format(age,name)\n",
    "    # interchange positional arg in format\n",
    "print(s)"
   ]
  },
  {
   "cell_type": "code",
   "execution_count": 8,
   "metadata": {},
   "outputs": [
    {
     "name": "stdout",
     "output_type": "stream",
     "text": [
      "My name is Mike. \n",
      "My age is 14\n"
     ]
    }
   ],
   "source": [
    "# changing the positional argumnet passing : indices\n",
    "\n",
    "name = \"Mike\"\n",
    "age = 14\n",
    "s3 = \"My name is {1}. \\nMy age is {0}\".format(age,name)\n",
    "    # interchange positional arg in format\n",
    "print(s3)"
   ]
  },
  {
   "cell_type": "code",
   "execution_count": 27,
   "metadata": {},
   "outputs": [
    {
     "name": "stdout",
     "output_type": "stream",
     "text": [
      "Hey my details are {1: {'name': 'mike', 'age': '14'}}\n",
      "Hey my new details are [1, ['mike', '14']]\n"
     ]
    }
   ],
   "source": [
    "# we can pass anything inside format string,\n",
    "# No matter what it is \n",
    "\n",
    "nest_dic = {1:\n",
    "               {\n",
    "                   \"name\":\"mike\",\n",
    "                   \"age\":\"14\"\n",
    "               }\n",
    "            }\n",
    "\n",
    "\n",
    "print(\"Hey my details are {}\".format(nest_dic))\n",
    "\n",
    "nested_list = [1,[\"mike\",\"14\"]]\n",
    "\n",
    "print(f\"Hey my new details are {nested_list}\")"
   ]
  },
  {
   "cell_type": "code",
   "execution_count": 30,
   "metadata": {
    "scrolled": true
   },
   "outputs": [
    {
     "name": "stdout",
     "output_type": "stream",
     "text": [
      "['details', ['mike', '14']] <class 'list'>\n",
      "{1: {'name': 'mike', 'age': '14'}} <class 'dict'>\n",
      "{1: {'NAME : ': 'mike', 'AGE : ': '14'}} <class 'dict'>\n"
     ]
    }
   ],
   "source": [
    "nested_list = [\"details\",[\"mike\",\"14\"]]\n",
    "\n",
    "print(nested_list,type(nested_list))\n",
    "\n",
    "nest_dic = {1:\n",
    "               {\n",
    "                   \"name\":\"mike\",\n",
    "                   \"age\":\"14\"\n",
    "               }\n",
    "            }\n",
    "\n",
    "print(nest_dic,type(nest_dic))\n",
    "\n",
    "# changing the keys of the nested dic by using variables\n",
    "\n",
    "a = \"NAME : \"\n",
    "b = \"AGE : \"\n",
    "nest_dic2 = {1:\n",
    "               {\n",
    "                   a:\"mike\",\n",
    "                   b:\"14\"\n",
    "               }\n",
    "            }\n",
    "print(nest_dic2,type(nest_dic2))"
   ]
  },
  {
   "cell_type": "code",
   "execution_count": null,
   "metadata": {},
   "outputs": [],
   "source": []
  },
  {
   "cell_type": "code",
   "execution_count": 55,
   "metadata": {},
   "outputs": [
    {
     "name": "stdout",
     "output_type": "stream",
     "text": [
      "The list is [1, 2, 'µ']\n",
      "The list is [1, 2, 'µ']\n",
      "The list after changing the 3rd item to string is [1, 2, 3]\n"
     ]
    }
   ],
   "source": [
    "# conversion Flags [DOUBTQ]\n",
    "\n",
    "'''\n",
    "String formatting statements:\n",
    "'{0}'.format(a)\n",
    "'{0!s}'.format(a)\n",
    "\n",
    "'{0}'.format(a) will use the result of a.__format__() to display the value\n",
    "'{0!s}'.format(a) will use the result of a.__str__() to display the value\n",
    "'{0!r}'.format(a) will use the result of a.__repr__() to display the value\n",
    "'''\n",
    "\n",
    "a = [1, 2, \"µ\"]\n",
    "b = [1, 2, 3]\n",
    "\n",
    "# there no difference between them when there is only a single argument\n",
    "print(\"The list is {}\".format(a))\n",
    "\n",
    "print(\"The list is {0}\".format(a))\n",
    "\n",
    "\n",
    "# convert he 3 item of the list to string\n",
    "print(\"The list after changing the 3rd item to string is {0!s}\".format(b))"
   ]
  },
  {
   "cell_type": "code",
   "execution_count": 1,
   "metadata": {},
   "outputs": [
    {
     "name": "stdout",
     "output_type": "stream",
     "text": [
      "6464\n",
      "6464\n",
      "6464\n",
      "6464\n",
      "'6464'\n",
      "'6464'\n",
      "[1, 2, 'µ']\n",
      "[1, 2, 'µ']\n",
      "[1, 2, 'µ']\n",
      "[1, 2, 'µ']\n",
      "[1, 2, 'µ']\n",
      "[1, 2, '\\xb5']\n",
      "\n",
      "Story Book for only 23.34 \n"
     ]
    }
   ],
   "source": [
    "# Conversion Flags ::\n",
    "\n",
    "b = \"6464\"\n",
    "a = [1, 2, \"µ\"]\n",
    "\n",
    "print(\"{!s}\".format(b))\n",
    "\n",
    "print(\"{}\".format(b))\n",
    "\n",
    "print(\"{0}\".format(b))\n",
    "\n",
    "print(\"{0!s}\".format(b))\n",
    "\n",
    "print(\"{0!r}\".format(b))\n",
    "\n",
    "print(\"{!a}\".format(b)) \n",
    "\n",
    "##########XXX###########\n",
    "\n",
    "print(\"{!s}\".format(a))\n",
    "\n",
    "print(\"{}\".format(a))\n",
    "\n",
    "print(\"{0}\".format(a))\n",
    "\n",
    "print(\"{0!s}\".format(a))\n",
    "\n",
    "print(\"{0!r}\".format(a))\n",
    "\n",
    "print(\"{!a}\".format(a)) \n",
    "\n",
    "##########XXX###########\n",
    "\n",
    "product = \"Story Book\"\n",
    "rs = 23.3434\n",
    "print(f\"\\n{product} for only {rs:.2f} \")"
   ]
  },
  {
   "cell_type": "code",
   "execution_count": null,
   "metadata": {},
   "outputs": [],
   "source": []
  },
  {
   "cell_type": "code",
   "execution_count": 5,
   "metadata": {},
   "outputs": [
    {
     "name": "stdout",
     "output_type": "stream",
     "text": [
      "this is a left aligned              string\n",
      "this is a right              aligned string\n",
      "this is a right       aligned        string\n"
     ]
    }
   ],
   "source": [
    "# Formatting Types ::\n",
    "\n",
    "'''\n",
    "Left Aligned : {:<20}\n",
    "Right Aligned : {:>20}\n",
    "Center Alogned : {:^20}\n",
    "'''\n",
    "\n",
    "a = \"this is a left {:<20} string\"\n",
    "print(a.format(\"aligned\"))\n",
    "\n",
    "b = \"this is a right {:>20} string\"\n",
    "print(b.format(\"aligned\"))\n",
    "\n",
    "c = \"this is a right {:^20} string\"\n",
    "print(c.format(\"aligned\"))"
   ]
  },
  {
   "cell_type": "code",
   "execution_count": null,
   "metadata": {},
   "outputs": [],
   "source": []
  },
  {
   "cell_type": "code",
   "execution_count": null,
   "metadata": {},
   "outputs": [],
   "source": []
  },
  {
   "cell_type": "code",
   "execution_count": null,
   "metadata": {},
   "outputs": [],
   "source": []
  },
  {
   "cell_type": "code",
   "execution_count": 14,
   "metadata": {},
   "outputs": [
    {
     "name": "stdout",
     "output_type": "stream",
     "text": [
      "My name is Mike\n",
      "My name is Mike Thomson\n",
      "My name is Mike Thomson !\n",
      "Sum of 10 and 20 is 30\n"
     ]
    }
   ],
   "source": [
    "        # String Interpolation / f-Strings\n",
    "# f-string added in 3.6+\n",
    "name = \"Mike\"\n",
    "print(\"My name is {}\".format(name))\n",
    "\n",
    "# normal f-string\n",
    "surname = \"Thomson\"\n",
    "print(f\"My name is {name} {surname}\")\n",
    "\n",
    "print(f\"My name is {name+' '+surname} !\")\n",
    "\n",
    "# using fstring to solve math problem\n",
    "\n",
    "a = 10\n",
    "b = 20\n",
    "print(f\"Sum of {a} and {b} is {a+b}\")"
   ]
  },
  {
   "cell_type": "code",
   "execution_count": 26,
   "metadata": {},
   "outputs": [
    {
     "data": {
      "text/plain": [
       "'Good Morning TOM Thomson'"
      ]
     },
     "execution_count": 26,
     "metadata": {},
     "output_type": "execute_result"
    }
   ],
   "source": [
    "# create a greet functn using fstring\n",
    "\n",
    "def greet(name,surname):\n",
    "    return f\"Good Morning {name} {surname}\"\n",
    "\n",
    "greet(\"TOM\",surname)"
   ]
  },
  {
   "cell_type": "code",
   "execution_count": 29,
   "metadata": {},
   "outputs": [
    {
     "data": {
      "text/plain": [
       "'Good Morning TOM Thomson'"
      ]
     },
     "execution_count": 29,
     "metadata": {},
     "output_type": "execute_result"
    }
   ],
   "source": [
    "# create a greet fucntn withour using fstring\n",
    "\n",
    "def greet2(name,surname):\n",
    "    return \"Good Morning \"+name+\" \"+surname\n",
    "\n",
    "greet2(\"TOM\",\"Thomson\")"
   ]
  },
  {
   "cell_type": "code",
   "execution_count": null,
   "metadata": {},
   "outputs": [],
   "source": []
  },
  {
   "cell_type": "code",
   "execution_count": 18,
   "metadata": {},
   "outputs": [
    {
     "data": {
      "text/plain": [
       "'Hey, Mike!'"
      ]
     },
     "execution_count": 18,
     "metadata": {},
     "output_type": "execute_result"
    }
   ],
   "source": [
    "# Template String\n",
    "\n",
    "from string import Template\n",
    "t = Template('Hey, $name!') # $ sign is imp \n",
    "# if removed normal string will be printed\n",
    "t.substitute(name=name)"
   ]
  },
  {
   "cell_type": "code",
   "execution_count": 23,
   "metadata": {},
   "outputs": [
    {
     "data": {
      "text/plain": [
       "'Hey, Harsh!'"
      ]
     },
     "execution_count": 23,
     "metadata": {},
     "output_type": "execute_result"
    }
   ],
   "source": [
    "name = \"Harsh\"\n",
    "from string import Template\n",
    "t = Template('Hey, $n!')\n",
    "t.substitute(n=name) # variable is stored in n"
   ]
  },
  {
   "cell_type": "code",
   "execution_count": null,
   "metadata": {},
   "outputs": [],
   "source": []
  }
 ],
 "metadata": {
  "kernelspec": {
   "display_name": "Python 3",
   "language": "python",
   "name": "python3"
  },
  "language_info": {
   "codemirror_mode": {
    "name": "ipython",
    "version": 3
   },
   "file_extension": ".py",
   "mimetype": "text/x-python",
   "name": "python",
   "nbconvert_exporter": "python",
   "pygments_lexer": "ipython3",
   "version": "3.7.3"
  }
 },
 "nbformat": 4,
 "nbformat_minor": 5
}
