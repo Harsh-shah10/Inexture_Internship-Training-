{
 "cells": [
  {
   "cell_type": "code",
   "execution_count": 6,
   "id": "44691c20",
   "metadata": {},
   "outputs": [
    {
     "name": "stdout",
     "output_type": "stream",
     "text": [
      "1234abcd"
     ]
    }
   ],
   "source": [
    "# iterating over list tuple and dict using FOR LOOP\n",
    "\n",
    "lst = [1,2,3,4,\"a\",\"b\",\"c\",\"d\"]\n",
    "for i in lst:\n",
    "    print(i,end='')"
   ]
  },
  {
   "cell_type": "code",
   "execution_count": 7,
   "id": "9792c0b1",
   "metadata": {},
   "outputs": [
    {
     "name": "stdout",
     "output_type": "stream",
     "text": [
      "1234abcd"
     ]
    }
   ],
   "source": [
    "tp = (1,2,3,4,\"a\",\"b\",\"c\",\"d\")\n",
    "for i in tp:\n",
    "    print(i,end='')"
   ]
  },
  {
   "cell_type": "code",
   "execution_count": 10,
   "id": "b048efb6",
   "metadata": {},
   "outputs": [
    {
     "name": "stdout",
     "output_type": "stream",
     "text": [
      "abc"
     ]
    }
   ],
   "source": [
    "dic = {\"a\":1,\"b\":2,\"c\":3}\n",
    "for i in dic.keys():\n",
    "    print(i,end='')\n"
   ]
  },
  {
   "cell_type": "code",
   "execution_count": 11,
   "id": "cd48f11c",
   "metadata": {},
   "outputs": [
    {
     "name": "stdout",
     "output_type": "stream",
     "text": [
      "123"
     ]
    }
   ],
   "source": [
    "for i in dic.values():\n",
    "    print(i,end='')\n",
    "    "
   ]
  },
  {
   "cell_type": "code",
   "execution_count": 13,
   "id": "aaad3316",
   "metadata": {},
   "outputs": [
    {
     "name": "stdout",
     "output_type": "stream",
     "text": [
      "a 1\n",
      "b 2\n",
      "c 3\n"
     ]
    }
   ],
   "source": [
    "for i,j in dic.items():\n",
    "    print(i,j)"
   ]
  },
  {
   "cell_type": "code",
   "execution_count": null,
   "id": "662b316a",
   "metadata": {},
   "outputs": [],
   "source": []
  },
  {
   "cell_type": "code",
   "execution_count": 28,
   "id": "c81097a4",
   "metadata": {},
   "outputs": [
    {
     "name": "stdout",
     "output_type": "stream",
     "text": [
      "1\n",
      "2\n",
      "3\n",
      "4\n",
      "a\n",
      "b\n",
      "c\n",
      "d\n"
     ]
    }
   ],
   "source": [
    "# iterating over list tuple and dict using WHILE LOOP\n",
    "    # You cannot iterate over a dic\n",
    "    \n",
    "lst = [1,2,3,4,\"a\",\"b\",\"c\",\"d\"]\n",
    "i = 0\n",
    "while i<len(lst):\n",
    "    print(lst[i])\n",
    "    i+=1"
   ]
  },
  {
   "cell_type": "code",
   "execution_count": 30,
   "id": "7863b36e",
   "metadata": {},
   "outputs": [
    {
     "name": "stdout",
     "output_type": "stream",
     "text": [
      "1\n",
      "2\n",
      "3\n",
      "4\n",
      "a\n",
      "b\n",
      "c\n",
      "d\n"
     ]
    }
   ],
   "source": [
    "tp = (1,2,3,4,\"a\",\"b\",\"c\",\"d\")\n",
    "i = 0\n",
    "while i<len(tp):\n",
    "    print(tp[i])\n",
    "    i+=1"
   ]
  },
  {
   "cell_type": "code",
   "execution_count": 32,
   "id": "e0e30ab6",
   "metadata": {},
   "outputs": [
    {
     "name": "stdout",
     "output_type": "stream",
     "text": [
      "a\n",
      "[1, 2, 3]\n",
      "b\n",
      "[4, 5, 6]\n"
     ]
    }
   ],
   "source": [
    "nest_lst = [\"a\",[1,2,3],\"b\",[4,5,6]]\n",
    "i = 0\n",
    "while i<len(nest_lst):\n",
    "    print(nest_lst[i])\n",
    "    i+=1"
   ]
  },
  {
   "cell_type": "code",
   "execution_count": 5,
   "id": "5113af74",
   "metadata": {},
   "outputs": [
    {
     "name": "stdout",
     "output_type": "stream",
     "text": [
      "(1, 2, 3)\n",
      "4\n",
      "(5, 'hello')\n"
     ]
    }
   ],
   "source": [
    "nes_tup = ((1,2,3),(4),(5,\"hello\"))\n",
    "i = 0\n",
    "while i<len(nes_tup):\n",
    "    print(nes_tup[i])\n",
    "    i+=1"
   ]
  },
  {
   "cell_type": "code",
   "execution_count": null,
   "id": "de601047",
   "metadata": {},
   "outputs": [],
   "source": []
  },
  {
   "cell_type": "code",
   "execution_count": 22,
   "id": "f4e91a5b",
   "metadata": {},
   "outputs": [
    {
     "name": "stdout",
     "output_type": "stream",
     "text": [
      "0\n",
      "1\n",
      "2\n",
      "3\n",
      "4\n",
      "\n",
      "0\n",
      "1\n",
      "2\n",
      "3\n",
      "4\n",
      "\n",
      "0\n",
      "3\n",
      "6\n",
      "9\n",
      "12\n"
     ]
    }
   ],
   "source": [
    "# Iterate over Range\n",
    "for i in range(5):\n",
    "    print(i)\n",
    "\n",
    "    # specifying step argument\n",
    "print()\n",
    "for i in range(0,5):\n",
    "    print(i)\n",
    "    \n",
    "print()     \n",
    "for i in range(0,15,3):\n",
    "    # range(start,end,step)\n",
    "    print(i)\n"
   ]
  },
  {
   "cell_type": "code",
   "execution_count": 25,
   "id": "4bd8a589",
   "metadata": {},
   "outputs": [
    {
     "name": "stdout",
     "output_type": "stream",
     "text": [
      "-1\n",
      "-3\n",
      "-5\n",
      "-7\n",
      "-9\n",
      "-11\n",
      "-13\n",
      "-15\n",
      "-17\n",
      "-19\n"
     ]
    }
   ],
   "source": [
    "for i in range(-1,-20,-2):\n",
    "    print(i)"
   ]
  },
  {
   "cell_type": "code",
   "execution_count": null,
   "id": "f0155a00",
   "metadata": {},
   "outputs": [],
   "source": []
  },
  {
   "cell_type": "code",
   "execution_count": 38,
   "id": "4e1f8a07",
   "metadata": {},
   "outputs": [
    {
     "name": "stdout",
     "output_type": "stream",
     "text": [
      "[0, 1, 2, 3, 4, 5, 6, 7, 8, 9, 10, 11, 12]\n",
      "0\n",
      "1\n",
      "2\n",
      "3\n",
      "4\n",
      "5\n"
     ]
    }
   ],
   "source": [
    "# Break, Continue and Pass\n",
    "\n",
    "lst = list(range(13))\n",
    "print(lst)\n",
    "\n",
    "    # Break\n",
    "for i in lst:\n",
    "    if i>5:\n",
    "        break\n",
    "    else:\n",
    "        print(i)\n"
   ]
  },
  {
   "cell_type": "code",
   "execution_count": 59,
   "id": "d9eb553e",
   "metadata": {},
   "outputs": [
    {
     "name": "stdout",
     "output_type": "stream",
     "text": [
      "0\n",
      "5\n",
      "10\n"
     ]
    }
   ],
   "source": [
    "for i in lst:\n",
    "    if i%5!=0:\n",
    "        continue\n",
    "    print(i)"
   ]
  },
  {
   "cell_type": "code",
   "execution_count": null,
   "id": "a701e7dc",
   "metadata": {},
   "outputs": [],
   "source": []
  },
  {
   "cell_type": "code",
   "execution_count": null,
   "id": "1dd12251",
   "metadata": {},
   "outputs": [],
   "source": []
  },
  {
   "cell_type": "code",
   "execution_count": 63,
   "id": "1cb2e892",
   "metadata": {},
   "outputs": [
    {
     "data": {
      "text/plain": [
       "[1, 2, 3, 4, 5, 6, 7, 8, 9]"
      ]
     },
     "execution_count": 63,
     "metadata": {},
     "output_type": "execute_result"
    }
   ],
   "source": [
    "# create user defined fuctn for range\n",
    "\n",
    "def rnge(start,end):\n",
    "    lst = []\n",
    "    while start<end:\n",
    "        lst.append(start)\n",
    "        start+=1\n",
    "    return lst\n",
    "rnge(1,10)"
   ]
  },
  {
   "cell_type": "code",
   "execution_count": 65,
   "id": "2bf82c22",
   "metadata": {},
   "outputs": [
    {
     "name": "stdout",
     "output_type": "stream",
     "text": [
      "hello :  5\n",
      "[1, 2, 3, 4, 5, 6] :  6\n"
     ]
    }
   ],
   "source": [
    "# create a user defined fucntn for len\n",
    "\n",
    "def lnth(str):\n",
    "    c = 0\n",
    "    while str[c:]:\n",
    "        c+=1\n",
    "    return c\n",
    "\n",
    "print(\"hello : \",lnth(\"hello\"))\n",
    "\n",
    "lst1 = [1,2,3,4,5,6]\n",
    "print(f\"{lst1} : \",lnth(lst1))"
   ]
  },
  {
   "cell_type": "code",
   "execution_count": null,
   "id": "e7b79b9c",
   "metadata": {},
   "outputs": [],
   "source": []
  },
  {
   "cell_type": "code",
   "execution_count": 4,
   "id": "8aadecb8",
   "metadata": {},
   "outputs": [
    {
     "name": "stdout",
     "output_type": "stream",
     "text": [
      "2 4 6 8 10 12 14 16 18 20 \n",
      "7 14 21 28 35 42 49 56 63 70 "
     ]
    }
   ],
   "source": [
    "# Printing tables using range\n",
    "\n",
    "    # range(start,end,step)\n",
    "\n",
    "for i in range(2,21,2):\n",
    "    print(i,end = \" \")\n",
    "    \n",
    "print()\n",
    "for i in range(7,71,7):\n",
    "    print(i,end = \" \")"
   ]
  },
  {
   "cell_type": "code",
   "execution_count": null,
   "id": "435c0545",
   "metadata": {},
   "outputs": [],
   "source": []
  },
  {
   "cell_type": "code",
   "execution_count": 8,
   "id": "4b8e83ec",
   "metadata": {},
   "outputs": [
    {
     "name": "stdout",
     "output_type": "stream",
     "text": [
      "Enter the number : 7\n",
      "Its a prime number\n"
     ]
    }
   ],
   "source": [
    "# Create a prog. for checking whether a number is prime or not\n",
    "\n",
    "# using flag\n",
    "\n",
    "'''\n",
    "number > 1\n",
    "factors only must be 2 [0] and the number itself\n",
    "'''\n",
    "\n",
    "flag = False\n",
    "n = int(input(\"Enter the number : \"))\n",
    "\n",
    "for i in range(2,n):\n",
    "    if n%i==0:\n",
    "        flag = True\n",
    "        print(f\"{n} is divisible by {i}\")\n",
    "        \n",
    "if flag==False:\n",
    "    print(\"Its a prime number\")\n",
    "else:\n",
    "    print(\"Its not a prime number\")"
   ]
  },
  {
   "cell_type": "code",
   "execution_count": null,
   "id": "68aa8e45",
   "metadata": {},
   "outputs": [],
   "source": []
  },
  {
   "cell_type": "code",
   "execution_count": 15,
   "id": "e101d02a",
   "metadata": {
    "scrolled": true
   },
   "outputs": [
    {
     "name": "stdout",
     "output_type": "stream",
     "text": [
      "Enter the number between 1 to 5 : 5\n",
      "5 x 1 =  5\n",
      "5 x 2 =  10\n",
      "5 x 3 =  15\n",
      "5 x 4 =  20\n",
      "5 x 5 =  25\n",
      "5 x 6 =  30\n",
      "5 x 7 =  35\n",
      "5 x 8 =  40\n",
      "5 x 9 =  45\n",
      "5 x 10 =  50\n",
      "Table is printed successfully\n"
     ]
    }
   ],
   "source": [
    "# Using Flag to notify the outer loop\n",
    "\n",
    "stats = True\n",
    "\n",
    "n = int(input(\"Enter the number between 1 to 5 : \"))\n",
    "\n",
    "if n<1 or n>5:\n",
    "    stats = False\n",
    "else:\n",
    "    for i in range(1,11):\n",
    "        print(f\"{n} x {i} = \",n*i)\n",
    "        \n",
    "        \n",
    "if stats:\n",
    "    print(\"Table is printed successfully\")\n",
    "else:\n",
    "    print(\"\\nTable not Printed. \\nInput is incorrect\")"
   ]
  },
  {
   "cell_type": "code",
   "execution_count": null,
   "id": "164b0b29",
   "metadata": {},
   "outputs": [],
   "source": []
  },
  {
   "cell_type": "code",
   "execution_count": 6,
   "id": "77fbd471",
   "metadata": {},
   "outputs": [
    {
     "name": "stdout",
     "output_type": "stream",
     "text": [
      "0 1 2 3 4 5 6 7 8 9 10 "
     ]
    }
   ],
   "source": [
    "# Raising an Exception\n",
    "\n",
    "class GetOutOfLoop(Exception):\n",
    "    pass\n",
    "\n",
    "while True:\n",
    "    try:\n",
    "        for num in range(100):\n",
    "            if num>10:\n",
    "                raise GetOutOfLoop\n",
    "            else:\n",
    "                print(num, end=' ')\n",
    "    except GetOutOfLoop:\n",
    "        break"
   ]
  },
  {
   "cell_type": "code",
   "execution_count": 5,
   "id": "be9eda83",
   "metadata": {},
   "outputs": [
    {
     "name": "stdout",
     "output_type": "stream",
     "text": [
      "Enter the number between 1 to 10 : 4\n",
      "The entered number is  4\n",
      "Enter the number between 1 to 10 : 2\n",
      "The entered number is  2\n",
      "Enter the number between 1 to 10 : 4546\n"
     ]
    }
   ],
   "source": [
    "# Raising an Exception\n",
    "\n",
    "class Errorr(Exception):\n",
    "    pass  # handling the exception here using pass\n",
    "\n",
    "while True:\n",
    "    try:\n",
    "        n = int(input(\"Enter the number between 1 to 10 : \"))\n",
    "        if n<1 or n>10:\n",
    "            raise Errorr\n",
    "        else:\n",
    "            print(\"The entered number is \",n)\n",
    "    except Errorr:\n",
    "        break"
   ]
  },
  {
   "cell_type": "code",
   "execution_count": null,
   "id": "3c3e798c",
   "metadata": {},
   "outputs": [],
   "source": []
  },
  {
   "cell_type": "code",
   "execution_count": 7,
   "id": "41e23006",
   "metadata": {},
   "outputs": [
    {
     "name": "stdout",
     "output_type": "stream",
     "text": [
      "0\n",
      "1\n",
      "2\n",
      "3\n",
      "4\n",
      "5\n",
      "6\n",
      "7\n",
      "8\n",
      "9\n",
      "10\n"
     ]
    }
   ],
   "source": [
    "# Using a function to wrap Loops\n",
    "\n",
    "def wraploop():\n",
    "    while True:\n",
    "        for i in range(20):\n",
    "            if i>10:\n",
    "                return \n",
    "            else:\n",
    "                print(i)\n",
    "\n",
    "\n",
    "# call functn\n",
    "wraploop()"
   ]
  },
  {
   "cell_type": "code",
   "execution_count": null,
   "id": "9437dbe3",
   "metadata": {},
   "outputs": [],
   "source": []
  },
  {
   "cell_type": "code",
   "execution_count": 8,
   "id": "05e675cb",
   "metadata": {},
   "outputs": [
    {
     "name": "stdout",
     "output_type": "stream",
     "text": [
      "1\n",
      "2\n",
      "3\n",
      "4\n",
      "5\n",
      "6\n",
      "7\n",
      "8\n",
      "9\n",
      "10\n"
     ]
    }
   ],
   "source": [
    "for i in range(1,20):\n",
    "    if i>10:\n",
    "        continue\n",
    "    else:\n",
    "        print(i)\n",
    "      "
   ]
  },
  {
   "cell_type": "code",
   "execution_count": null,
   "id": "9725ea7a",
   "metadata": {},
   "outputs": [],
   "source": []
  },
  {
   "cell_type": "markdown",
   "id": "72d2f515",
   "metadata": {},
   "source": [
    "#### Yield Keyword\n",
    "> Yield is a keyword in Python that is used to return from a function without destroying the states of its local variable and when the function is called,the execution starts from the last yield statement. \n",
    "\n",
    "> Any function that contains a yield keyword is termed a generator. Hence, yield is what makes a generator."
   ]
  },
  {
   "cell_type": "code",
   "execution_count": 13,
   "id": "43cb162c",
   "metadata": {},
   "outputs": [
    {
     "data": {
      "text/plain": [
       "<generator object print_even at 0x7fdcc8675dd0>"
      ]
     },
     "execution_count": 13,
     "metadata": {},
     "output_type": "execute_result"
    }
   ],
   "source": [
    "# generator to print even numbers\n",
    "def print_even(test_list) :\n",
    "    for i in test_list:\n",
    "        if i % 2 == 0:\n",
    "            yield i\n",
    " \n",
    "# initializing list\n",
    "test_list = [1, 4, 5, 6, 7]\n",
    " \n",
    "print_even(test_list)"
   ]
  },
  {
   "cell_type": "code",
   "execution_count": 14,
   "id": "132ca850",
   "metadata": {},
   "outputs": [
    {
     "name": "stdout",
     "output_type": "stream",
     "text": [
      "4 is an even no.\n",
      "6 is an even no.\n"
     ]
    }
   ],
   "source": [
    "for j in print_even(test_list):\n",
    "    print(f\"{j} is an even no.\")"
   ]
  },
  {
   "cell_type": "code",
   "execution_count": null,
   "id": "1b7644f2",
   "metadata": {},
   "outputs": [],
   "source": []
  },
  {
   "cell_type": "code",
   "execution_count": 15,
   "id": "96f22d8a",
   "metadata": {},
   "outputs": [
    {
     "name": "stdout",
     "output_type": "stream",
     "text": [
      "10\n",
      "20\n"
     ]
    }
   ],
   "source": [
    "# YIELD Statement \n",
    "\n",
    "    # Yield statement returns the element from a generator fucntion into a generator object\n",
    "\n",
    "def disp(a,b):\n",
    "    yield a\n",
    "    yield b\n",
    "    \n",
    "x,y = disp(10,20)\n",
    "print(x)\n",
    "print(y)"
   ]
  },
  {
   "cell_type": "code",
   "execution_count": 16,
   "id": "bab83471",
   "metadata": {},
   "outputs": [
    {
     "name": "stdout",
     "output_type": "stream",
     "text": [
      "<generator object disp at 0x7fdcc8f7f0b0> <class 'generator'>\n"
     ]
    }
   ],
   "source": [
    "# YIELD is a generator object\n",
    "\n",
    "result = disp(11,12)\n",
    "print(result,type(result))"
   ]
  },
  {
   "cell_type": "code",
   "execution_count": 20,
   "id": "120ee91b",
   "metadata": {},
   "outputs": [
    {
     "name": "stdout",
     "output_type": "stream",
     "text": [
      "[1, 2] <class 'list'>\n",
      "<generator object disp at 0x7fdcc8ecd040> <class 'generator'>\n"
     ]
    }
   ],
   "source": [
    "# taking values from generator object and creating a lst\n",
    "\n",
    "result = disp(1,2)\n",
    "\n",
    "    # using type casting\n",
    "lst = list(result)\n",
    "print(lst,type(lst))\n",
    "\n",
    "    # Its still a generator object its not been changed \n",
    "print(result,type(result))"
   ]
  },
  {
   "cell_type": "code",
   "execution_count": null,
   "id": "06879d2d",
   "metadata": {},
   "outputs": [],
   "source": []
  },
  {
   "cell_type": "code",
   "execution_count": null,
   "id": "83ced490",
   "metadata": {},
   "outputs": [],
   "source": []
  },
  {
   "cell_type": "code",
   "execution_count": 32,
   "id": "f720e02c",
   "metadata": {},
   "outputs": [
    {
     "name": "stdout",
     "output_type": "stream",
     "text": [
      "<generator object dis at 0x7fdcc8ecdeb0> <class 'generator'>\n",
      "1\n",
      "2\n",
      "3\n"
     ]
    }
   ],
   "source": [
    "# Next() Fucntion\n",
    "\n",
    "    # next () fucntn is used with the generator object\n",
    "\n",
    "def dis(a,b,c):\n",
    "    yield a\n",
    "    yield b\n",
    "    yield c\n",
    "    \n",
    "result = dis(1,2,3)\n",
    "print(result,type(result))\n",
    "\n",
    "print(next(result))\n",
    "print(next(result))\n",
    "print(next(result))\n"
   ]
  },
  {
   "cell_type": "code",
   "execution_count": null,
   "id": "acae1b93",
   "metadata": {},
   "outputs": [],
   "source": [
    "# yeild : genreates a sequence of values"
   ]
  },
  {
   "cell_type": "code",
   "execution_count": 48,
   "id": "4a421d69",
   "metadata": {},
   "outputs": [
    {
     "name": "stdout",
     "output_type": "stream",
     "text": [
      "1\n",
      "2\n",
      "3\n",
      "4\n"
     ]
    }
   ],
   "source": [
    "def show(a,b):\n",
    "    while a<=b:\n",
    "        yield a\n",
    "        a+=1\n",
    "    \n",
    "res = show(1,4)\n",
    "\n",
    "print(next(res))\n",
    "print(next(res))\n",
    "print(next(res))\n",
    "print(next(res))"
   ]
  },
  {
   "cell_type": "code",
   "execution_count": 56,
   "id": "26db685e",
   "metadata": {},
   "outputs": [
    {
     "name": "stdout",
     "output_type": "stream",
     "text": [
      "1\n",
      "2\n",
      "3\n",
      "4\n",
      "5\n"
     ]
    }
   ],
   "source": [
    "# printing using for loop\n",
    "\n",
    "def show(a,b):\n",
    "    while a<=b:\n",
    "        yield a\n",
    "        a+=1\n",
    "    \n",
    "rest = show(1,5)\n",
    "\n",
    "for i in rest:\n",
    "    print(i)"
   ]
  },
  {
   "cell_type": "code",
   "execution_count": null,
   "id": "1356e7e4",
   "metadata": {},
   "outputs": [],
   "source": []
  },
  {
   "cell_type": "code",
   "execution_count": 60,
   "id": "5ae8892d",
   "metadata": {
    "scrolled": true
   },
   "outputs": [
    {
     "name": "stdout",
     "output_type": "stream",
     "text": [
      "<generator object sq at 0x7fdcc8e54900>\n",
      "1\n",
      "4\n",
      "9\n",
      "16\n",
      "25\n",
      "36\n",
      "49\n",
      "64\n",
      "81\n",
      "100\n"
     ]
    }
   ],
   "source": [
    "# printing square of 1 to 10 numbers using yield\n",
    "\n",
    "def sq(a,b):\n",
    "    while a<=b:\n",
    "        yield a*a\n",
    "        a+=1\n",
    "        \n",
    "square = sq(1,10)\n",
    "print(square)\n",
    "\n",
    "for i in square:\n",
    "    print(i)"
   ]
  },
  {
   "cell_type": "code",
   "execution_count": null,
   "id": "8de4308a",
   "metadata": {},
   "outputs": [],
   "source": []
  },
  {
   "cell_type": "code",
   "execution_count": null,
   "id": "95be65f2",
   "metadata": {},
   "outputs": [],
   "source": [
    "# Program to count the No. of substring into the String"
   ]
  },
  {
   "cell_type": "code",
   "execution_count": 76,
   "id": "0841dc5b",
   "metadata": {},
   "outputs": [
    {
     "name": "stdout",
     "output_type": "stream",
     "text": [
      "No of 'And' in string is  4\n"
     ]
    }
   ],
   "source": [
    "string = \"And needy nothing trimm'd in jollity, And purest faith unhappily forsworn, And gilded honour shamefully misplac'd, And maiden virtue rudely strumpeted\"\n",
    "sub_string = \"And\"\n",
    "\n",
    "# taking each word as a single element into the lst\n",
    "lst = list(string.split(\" \"))\n",
    "\n",
    "c=0\n",
    "for i in lst:\n",
    "    if i==sub_string:\n",
    "        c+=1\n",
    "    \n",
    "    \n",
    "print(f\"No of '{sub_string}' in string is \",c)\n"
   ]
  },
  {
   "cell_type": "markdown",
   "id": "91bc94b5",
   "metadata": {},
   "source": [
    "#### or"
   ]
  },
  {
   "cell_type": "code",
   "execution_count": 87,
   "id": "60493f5b",
   "metadata": {},
   "outputs": [
    {
     "name": "stdout",
     "output_type": "stream",
     "text": [
      "No of 'And' in string is  4\n"
     ]
    }
   ],
   "source": [
    "string = \"And needy nothing trimm'd in jollity, And purest faith unhappily forsworn, And gilded honour shamefully misplac'd, And maiden virtue rudely strumpeted\"\n",
    "sub_string = \"And\"\n",
    "\n",
    "string = string.split()\n",
    "\n",
    "c = 0\n",
    "for i in string:\n",
    "    if i==\"And\":\n",
    "        c+=1\n",
    "    \n",
    "print(\"No of 'And' in string is \",c)"
   ]
  },
  {
   "cell_type": "markdown",
   "id": "0af6af61",
   "metadata": {},
   "source": [
    "#### or"
   ]
  },
  {
   "cell_type": "code",
   "execution_count": 90,
   "id": "9cfcbdf0",
   "metadata": {},
   "outputs": [
    {
     "name": "stdout",
     "output_type": "stream",
     "text": [
      "No. of 'And' in String is  4\n"
     ]
    }
   ],
   "source": [
    "# using YIELD to count the number of substring into the string\n",
    "\n",
    "string = \"And needy nothing trimm'd in jollity, And purest faith unhappily forsworn, And gilded honour shamefully misplac'd, And maiden virtue rudely strumpeted\"\n",
    "sub_string = \"And\"\n",
    "\n",
    "def count_sub(string,sub_string):\n",
    "    for i in string:\n",
    "        if i==sub_string:\n",
    "            yield i\n",
    "            \n",
    "            \n",
    "string = string.split()\n",
    "\n",
    "soln = count_sub(string,sub_string)\n",
    "\n",
    "count = 0\n",
    "for i in soln:\n",
    "    count+=1\n",
    "\n",
    "print(\"No. of 'And' in String is \",count)"
   ]
  },
  {
   "cell_type": "code",
   "execution_count": null,
   "id": "f0ef48ee",
   "metadata": {},
   "outputs": [],
   "source": []
  },
  {
   "cell_type": "code",
   "execution_count": null,
   "id": "90b6508c",
   "metadata": {},
   "outputs": [],
   "source": [
    "# Using NEXT with yield to get the count"
   ]
  },
  {
   "cell_type": "code",
   "execution_count": 99,
   "id": "cf9bfee1",
   "metadata": {},
   "outputs": [
    {
     "name": "stdout",
     "output_type": "stream",
     "text": [
      "And\n",
      "And\n",
      "And\n",
      "And\n"
     ]
    }
   ],
   "source": [
    "# using YIELD to count the number of substring into the string\n",
    "\n",
    "string = \"And needy nothing trimm'd in jollity, And purest faith unhappily forsworn, And gilded honour shamefully misplac'd, And maiden virtue rudely strumpeted\"\n",
    "sub_string = \"And\"\n",
    "\n",
    "def count_sub(string,sub_string):\n",
    "    for i in string:\n",
    "        if i==sub_string:\n",
    "            yield i\n",
    "            \n",
    "            \n",
    "string = string.split()\n",
    "\n",
    "soln = count_sub(string,sub_string)\n",
    "\n",
    "print(next(soln))\n",
    "print(next(soln))\n",
    "print(next(soln))\n",
    "print(next(soln))"
   ]
  },
  {
   "cell_type": "code",
   "execution_count": 100,
   "id": "826a55b6",
   "metadata": {},
   "outputs": [
    {
     "ename": "StopIteration",
     "evalue": "",
     "output_type": "error",
     "traceback": [
      "\u001b[0;31m---------------------------------------------------------------------------\u001b[0m",
      "\u001b[0;31mStopIteration\u001b[0m                             Traceback (most recent call last)",
      "Input \u001b[0;32mIn [100]\u001b[0m, in \u001b[0;36m<module>\u001b[0;34m\u001b[0m\n\u001b[0;32m----> 1\u001b[0m \u001b[38;5;28mprint\u001b[39m(\u001b[38;5;28;43mnext\u001b[39;49m\u001b[43m(\u001b[49m\u001b[43msoln\u001b[49m\u001b[43m)\u001b[49m)\n",
      "\u001b[0;31mStopIteration\u001b[0m: "
     ]
    }
   ],
   "source": [
    "print(next(soln))"
   ]
  },
  {
   "cell_type": "markdown",
   "id": "200ccc55",
   "metadata": {},
   "source": [
    "##### Why use Yield Instead of Return ?\n",
    "\n",
    "> Return sends a specified value back to its caller whereas Yield can produce a sequence of values. \n",
    "\n",
    ">We should use yield when we want to iterate over a sequence, but don’t want to store the entire sequence in memory."
   ]
  },
  {
   "cell_type": "markdown",
   "id": "11be5d2c",
   "metadata": {},
   "source": [
    "#### Yield v/s Return"
   ]
  },
  {
   "cell_type": "markdown",
   "id": "39df9dd1",
   "metadata": {},
   "source": [
    "> Yield :\n",
    "\n",
    "Yield is generally used to convert a regular Python function into a generator.\n",
    "\n",
    "It replace the return of a function to suspend its execution without destroying local variables.\t\n",
    "\n",
    "It can run multiple times.\t\n",
    "\n",
    "> Return :\n",
    "\n",
    "It only runs single time.\n",
    "\n",
    "Return is generally used for the end of the execution and “returns” the result to the caller statement.\n",
    "\n",
    "It exits from a function and handing back a value to its caller."
   ]
  },
  {
   "cell_type": "code",
   "execution_count": null,
   "id": "a8ac44f5",
   "metadata": {},
   "outputs": [],
   "source": []
  },
  {
   "cell_type": "markdown",
   "id": "cb740dc3",
   "metadata": {},
   "source": [
    "#### for vs while\n",
    "> When you have an iterable and you want to process each and every item inside that then you should go for the for loop.\n",
    "\n",
    "> When you have some operations that modifies some kind of conditions and that condition is the decision maker on if the loop should be running or not use while."
   ]
  },
  {
   "cell_type": "code",
   "execution_count": null,
   "id": "39567dd5",
   "metadata": {},
   "outputs": [],
   "source": []
  }
 ],
 "metadata": {
  "kernelspec": {
   "display_name": "Python 3 (ipykernel)",
   "language": "python",
   "name": "python3"
  },
  "language_info": {
   "codemirror_mode": {
    "name": "ipython",
    "version": 3
   },
   "file_extension": ".py",
   "mimetype": "text/x-python",
   "name": "python",
   "nbconvert_exporter": "python",
   "pygments_lexer": "ipython3",
   "version": "3.8.10"
  }
 },
 "nbformat": 4,
 "nbformat_minor": 5
}
