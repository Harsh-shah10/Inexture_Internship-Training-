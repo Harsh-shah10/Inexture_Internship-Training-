{
 "cells": [
  {
   "cell_type": "code",
   "execution_count": 1,
   "id": "491e7c77",
   "metadata": {},
   "outputs": [
    {
     "name": "stdout",
     "output_type": "stream",
     "text": [
      "This will be printed.\n"
     ]
    }
   ],
   "source": [
    "if True:\n",
    "    print(\"This will be printed.\")\n",
    "if False:\n",
    "    print(\"This will not be printed\")"
   ]
  },
  {
   "cell_type": "code",
   "execution_count": 2,
   "id": "3824aa14",
   "metadata": {},
   "outputs": [
    {
     "name": "stdout",
     "output_type": "stream",
     "text": [
      "If is true.\n",
      "Print inside else after False if.\n"
     ]
    }
   ],
   "source": [
    "if True:\n",
    "    print(\"If is true.\")\n",
    "else:\n",
    "    print(\"Print inside else after truthy if.\")\n",
    "    \n",
    "if False:\n",
    "    print(\"If is False.\")\n",
    "else:\n",
    "    print(\"Print inside else after False if.\")"
   ]
  },
  {
   "cell_type": "code",
   "execution_count": 5,
   "id": "a54ef606",
   "metadata": {},
   "outputs": [
    {
     "name": "stdout",
     "output_type": "stream",
     "text": [
      "a is less than 5\n"
     ]
    }
   ],
   "source": [
    "                # Multiple if elif else\n",
    "# Once a if statement is set TRUE it wont be checking the below elif\n",
    "\n",
    "a = 1\n",
    "\n",
    "if a<5:\n",
    "    print(\"a is less than 5\")\n",
    "elif a<4:\n",
    "    print(\"a is less than 4\")\n",
    "else:\n",
    "    print(\"Default print if all cases failed\")"
   ]
  },
  {
   "cell_type": "code",
   "execution_count": 10,
   "id": "91c9ea42",
   "metadata": {},
   "outputs": [
    {
     "name": "stdout",
     "output_type": "stream",
     "text": [
      "Enter the number : 0\n",
      "Number is zero\n"
     ]
    }
   ],
   "source": [
    "# program to check whether the number is +ve -ve or zero\n",
    "\n",
    "i = int(input(\"Enter the number : \"))\n",
    "\n",
    "if i>0:\n",
    "    print(\"Number is positive\")\n",
    "elif i<0:\n",
    "    print(\"Number is negative\")\n",
    "else:\n",
    "    print(\"Number is zero\")"
   ]
  },
  {
   "cell_type": "code",
   "execution_count": 16,
   "id": "0161ca30",
   "metadata": {},
   "outputs": [
    {
     "name": "stdout",
     "output_type": "stream",
     "text": [
      "1\n",
      "3\n",
      "2\n",
      "\n",
      "3 is the largest\n",
      "1 3 2\n"
     ]
    }
   ],
   "source": [
    "# Comparison operators and Multiple conditions\n",
    "\n",
    "'''\n",
    "- or\n",
    "- and \n",
    "- is \n",
    "- in\n",
    "- not\n",
    "'''\n",
    "\n",
    "a = int(input())\n",
    "b = int(input())\n",
    "c = int(input())\n",
    "\n",
    "# largest number among the three\n",
    "\n",
    "if a>b and a>c:\n",
    "    print(f\"\\n{a} is the largest\")\n",
    "elif b>c:\n",
    "    print(f\"\\n{b} is the largest\")\n",
    "else:\n",
    "    print(f\"\\n{c} is the largest\")\n",
    "\n",
    "print(a,b,c)"
   ]
  },
  {
   "cell_type": "code",
   "execution_count": 22,
   "id": "46f1cb2f",
   "metadata": {},
   "outputs": [
    {
     "name": "stdout",
     "output_type": "stream",
     "text": [
      "11 is the middle number\n"
     ]
    }
   ],
   "source": [
    "# find the middle number among the 3 numbers\n",
    "a = 11\n",
    "b = 333\n",
    "c = 2\n",
    "\n",
    "if b<a<c or c<a<b:\n",
    "    print(f\"{a} is the middle number\")\n",
    "elif a<b<c or c<a<b:\n",
    "    print(f\"{b} is the middle number\")\n",
    "else:\n",
    "    print(f\"{c} is the middle number\")"
   ]
  },
  {
   "cell_type": "code",
   "execution_count": 26,
   "id": "91967f40",
   "metadata": {},
   "outputs": [
    {
     "name": "stdout",
     "output_type": "stream",
     "text": [
      "e is Tho : is present in string hello my name is Thomas\n"
     ]
    }
   ],
   "source": [
    "# checking whether the substring is present in the string using if else\n",
    "\n",
    "s = \"hello my name is Thomas\"\n",
    "sub_str = \"e is Tho\"\n",
    "\n",
    "if sub_str in s:\n",
    "    print(f\"{sub_str} : is present in string {s}\")\n",
    "else:\n",
    "    print(f\"{sub_str} : is NOT present in string {s}\")\n"
   ]
  },
  {
   "cell_type": "code",
   "execution_count": 34,
   "id": "ef3ce7e8",
   "metadata": {},
   "outputs": [
    {
     "name": "stdout",
     "output_type": "stream",
     "text": [
      "Yes\n",
      "Yes\n"
     ]
    }
   ],
   "source": [
    "dic = {1:\"a\",2:\"b\",c:\"c\"}\n",
    "\n",
    "# checking whether the key is present in the Dic\n",
    "\n",
    "if 1 in dic.keys():\n",
    "    print(\"Yes\")\n",
    "else:\n",
    "    print(\"NO\")\n",
    "    \n",
    "# checking whether the value is present in the Dic\n",
    "\n",
    "if \"c\" in dic.values():\n",
    "    print(\"Yes\")\n",
    "else:\n",
    "    print(\"NO\")"
   ]
  },
  {
   "cell_type": "code",
   "execution_count": 36,
   "id": "0a2876d7",
   "metadata": {},
   "outputs": [
    {
     "name": "stdout",
     "output_type": "stream",
     "text": [
      "Yes 10 is 10\n",
      "NO 10 is not 10.0\n"
     ]
    }
   ],
   "source": [
    "# Mutability and Non-Mutability\n",
    "a = 10\n",
    "b = 10\n",
    "c = 10.0\n",
    "\n",
    "if a is b:\n",
    "    print(f\"Yes {a} is {b}\")\n",
    "else:\n",
    "    print(f\"NO {a} is not {b}\")\n",
    "    \n",
    "if a is c:\n",
    "    print(f\"Yes {a} is {c}\")\n",
    "else:\n",
    "    print(f\"NO {a} is not {c}\")\n",
    "    "
   ]
  },
  {
   "cell_type": "code",
   "execution_count": 37,
   "id": "0c8f30d5",
   "metadata": {},
   "outputs": [
    {
     "name": "stdout",
     "output_type": "stream",
     "text": [
      "10 9789280\n",
      "10 9789280\n"
     ]
    }
   ],
   "source": [
    "# Location is same\n",
    "print(a,id(a))\n",
    "print(b,id(b))"
   ]
  },
  {
   "cell_type": "code",
   "execution_count": 55,
   "id": "91ec256c",
   "metadata": {},
   "outputs": [
    {
     "name": "stdout",
     "output_type": "stream",
     "text": [
      "256 9797152\n",
      "256 9797152\n",
      "257 139796207679920\n",
      "257 139796207680208\n",
      "0 9788960\n",
      "0 9788960\n",
      "-5 9788800\n",
      "-5 9788800\n",
      "-6 139796207680560\n",
      "-6 139796207679760\n"
     ]
    }
   ],
   "source": [
    "'''\n",
    "Mutable types are those whose values can be changed in place whereas \n",
    "Immutable types are those that can never change their value in place.\n",
    "'''\n",
    "# -5 to 256 stored in python cache AND the value just points to (the same location)it\n",
    "a = 256\n",
    "b = 256\n",
    "print(a,id(a))\n",
    "print(b,id(b))\n",
    "\n",
    "\n",
    "c = 257\n",
    "d = 257\n",
    "print(c,id(c))\n",
    "print(d,id(d))\n",
    "\n",
    "\n",
    "e = 0\n",
    "f = 0\n",
    "print(e,id(e))\n",
    "print(f,id(f))\n",
    "\n",
    "g = -5\n",
    "h = -5\n",
    "print(g,id(g))\n",
    "print(h,id(h))\n",
    "\n",
    "i = -6\n",
    "j = -6\n",
    "print(i,id(i))\n",
    "print(j,id(j))"
   ]
  },
  {
   "cell_type": "code",
   "execution_count": 57,
   "id": "b814f1a9",
   "metadata": {},
   "outputs": [
    {
     "name": "stdout",
     "output_type": "stream",
     "text": [
      "True\n",
      "False\n"
     ]
    }
   ],
   "source": [
    "a = \"azaza\"\n",
    "b = \"azaza\"\n",
    "c = \"slsls\"\n",
    "print(a is b)\n",
    "\n",
    "print(a is c)"
   ]
  },
  {
   "cell_type": "code",
   "execution_count": null,
   "id": "9f6e58be",
   "metadata": {},
   "outputs": [],
   "source": []
  }
 ],
 "metadata": {
  "kernelspec": {
   "display_name": "Python 3 (ipykernel)",
   "language": "python",
   "name": "python3"
  },
  "language_info": {
   "codemirror_mode": {
    "name": "ipython",
    "version": 3
   },
   "file_extension": ".py",
   "mimetype": "text/x-python",
   "name": "python",
   "nbconvert_exporter": "python",
   "pygments_lexer": "ipython3",
   "version": "3.8.10"
  }
 },
 "nbformat": 4,
 "nbformat_minor": 5
}
