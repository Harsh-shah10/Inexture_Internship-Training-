{
 "cells": [
  {
   "cell_type": "code",
   "execution_count": 2,
   "id": "3427d384",
   "metadata": {},
   "outputs": [
    {
     "name": "stdout",
     "output_type": "stream",
     "text": [
      "My name is a and my roll no. is 1\n",
      "My name is b and my roll no. is 2\n",
      "My name is c and my roll no. is 3\n"
     ]
    }
   ],
   "source": [
    "# using % operator [old way]\n",
    "\n",
    "# we will use zip method drom iter tools\n",
    "\n",
    "import itertools\n",
    "name = ['a','b','c']\n",
    "roll_no = [1,2,3]\n",
    "\n",
    "for i,j in zip(name,roll_no):\n",
    "    print(f\"My name is %s and my roll no. is %s\"%(i,j))"
   ]
  },
  {
   "cell_type": "code",
   "execution_count": null,
   "id": "e5d8fac6",
   "metadata": {},
   "outputs": [],
   "source": []
  },
  {
   "cell_type": "code",
   "execution_count": 7,
   "id": "afee60f6",
   "metadata": {},
   "outputs": [
    {
     "name": "stdout",
     "output_type": "stream",
     "text": [
      "My name is a and my roll no. is 1\n",
      "My name is b and my roll no. is 2\n",
      "My name is c and my roll no. is 3\n"
     ]
    }
   ],
   "source": [
    "# using f-string \n",
    "\n",
    "import itertools\n",
    "name = ['a','b','c']\n",
    "roll_no = [1,2,3]\n",
    "\n",
    "for i,j in zip(name,roll_no):\n",
    "    print(f\"My name is {i} and my roll no. is {j}\")"
   ]
  },
  {
   "cell_type": "code",
   "execution_count": null,
   "id": "5aa92a1e",
   "metadata": {},
   "outputs": [],
   "source": []
  },
  {
   "cell_type": "code",
   "execution_count": 5,
   "id": "620b471e",
   "metadata": {},
   "outputs": [
    {
     "name": "stdout",
     "output_type": "stream",
     "text": [
      "My name is a and my roll no. is 1\n",
      "My name is b and my roll no. is 2\n",
      "My name is c and my roll no. is 3\n"
     ]
    }
   ],
   "source": [
    "# using string.format\n",
    "\n",
    "import itertools\n",
    "name = ['a','b','c']\n",
    "roll_no = [1,2,3]\n",
    "\n",
    "for i,j in zip(name,roll_no):\n",
    "    print(\"My name is {} and my roll no. is {}\".format(i,j))"
   ]
  },
  {
   "cell_type": "code",
   "execution_count": null,
   "id": "cde2d5e7",
   "metadata": {},
   "outputs": [],
   "source": []
  },
  {
   "cell_type": "code",
   "execution_count": 12,
   "id": "d687f1d3",
   "metadata": {},
   "outputs": [
    {
     "name": "stdout",
     "output_type": "stream",
     "text": [
      "3333444466\n",
      "3,333,444,466\n",
      "3_333_444_466\n"
     ]
    }
   ],
   "source": [
    "# Adding seperators using Commas,Underscore,Spaces\n",
    "\n",
    "n = 3333444466\n",
    "print(f\"{n:}\")\n",
    "\n",
    "print(f\"{n:,}\")\n",
    "\n",
    "print(f\"{n:_}\")"
   ]
  },
  {
   "cell_type": "code",
   "execution_count": 17,
   "id": "30c80d3b",
   "metadata": {},
   "outputs": [
    {
     "name": "stdout",
     "output_type": "stream",
     "text": [
      " 3333444466\n",
      "3    333    444    466\n",
      "3 333 444 466\n"
     ]
    }
   ],
   "source": [
    "print(f\"{n: }\") # wrong way to add spaces\n",
    "\n",
    "# right way to add spaces is replacing the , with ' '\n",
    "print(f\"{n:,}\".replace(',','    '))\n",
    "\n",
    "# the larger the space the more seperated the number will be\n",
    "print(f\"{n:,}\".replace(',',\" \"))"
   ]
  },
  {
   "cell_type": "code",
   "execution_count": null,
   "id": "0b0d0cfd",
   "metadata": {},
   "outputs": [],
   "source": []
  },
  {
   "cell_type": "code",
   "execution_count": 22,
   "id": "58e51027",
   "metadata": {},
   "outputs": [
    {
     "name": "stdout",
     "output_type": "stream",
     "text": [
      "welcome\n",
      "welcome\n",
      "     welcome\n",
      "  welcome   \n"
     ]
    }
   ],
   "source": [
    "# Justifying and centering the strings\n",
    "\n",
    "s = \"welcome\"\n",
    "\n",
    "# default justification Is always Left\n",
    "print(f\"{s}\")\n",
    "\n",
    "# left justification \n",
    "print(f\"{s:<}\")\n",
    "\n",
    "# right justification \n",
    "print(f\"{s:>12}\") # 12 is the no. of space\n",
    "\n",
    "# center justification\n",
    "print(f\"{s:^12}\") \n"
   ]
  },
  {
   "cell_type": "code",
   "execution_count": null,
   "id": "4917659a",
   "metadata": {},
   "outputs": [],
   "source": []
  },
  {
   "cell_type": "code",
   "execution_count": 25,
   "id": "eb0c5eaf",
   "metadata": {},
   "outputs": [
    {
     "name": "stdout",
     "output_type": "stream",
     "text": [
      "True\n"
     ]
    }
   ],
   "source": [
    "# Using if else with f-string\n",
    "\n",
    "x = True\n",
    "y = False\n",
    "print(f\"{x if 10<30 else y}\")"
   ]
  },
  {
   "cell_type": "code",
   "execution_count": null,
   "id": "0f14b5e9",
   "metadata": {},
   "outputs": [],
   "source": []
  }
 ],
 "metadata": {
  "kernelspec": {
   "display_name": "Python 3 (ipykernel)",
   "language": "python",
   "name": "python3"
  },
  "language_info": {
   "codemirror_mode": {
    "name": "ipython",
    "version": 3
   },
   "file_extension": ".py",
   "mimetype": "text/x-python",
   "name": "python",
   "nbconvert_exporter": "python",
   "pygments_lexer": "ipython3",
   "version": "3.8.10"
  }
 },
 "nbformat": 4,
 "nbformat_minor": 5
}
